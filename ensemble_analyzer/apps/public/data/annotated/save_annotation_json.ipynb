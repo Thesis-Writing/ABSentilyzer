{
 "cells": [
  {
   "cell_type": "code",
   "execution_count": 1,
   "metadata": {},
   "outputs": [],
   "source": [
    "import json\n",
    "import os\n",
    "import pandas as pd\n",
    "from tqdm import tqdm\n",
    "tqdm.pandas()"
   ]
  },
  {
   "cell_type": "code",
   "execution_count": null,
   "metadata": {},
   "outputs": [],
   "source": [
    "# convert json to jsonl\n",
    "cwd = os.getcwd()\n",
    "JSON_file = json.loads(open(\n",
    "    os.path.join(cwd, '7/al.json'), 'r', encoding=\"utf8\").read())\n",
    "with open('7/al.jsonl', 'w') as outfile:\n",
    "    for line in JSON_file:\n",
    "        json.dump(line, outfile)\n",
    "        outfile.write('\\n')"
   ]
  },
  {
   "cell_type": "code",
   "execution_count": 2,
   "metadata": {},
   "outputs": [],
   "source": [
    "# convert jsonl to list of json\n",
    "\n",
    "result_list = []\n",
    "\n",
    "with open('7/a2/al_annotator_2.jsonl', 'r', encoding=\"utf8\") as json_file:\n",
    "    for line in json_file:\n",
    "        result = json.loads(line)\n",
    "        result_list.append(result)\n",
    "\n"
   ]
  },
  {
   "cell_type": "code",
   "execution_count": 3,
   "metadata": {},
   "outputs": [],
   "source": [
    "with open('7/a2/al_annotator_2.json', 'w', encoding='utf-8') as f:\n",
    "    json.dump(result_list, f, ensure_ascii=False, indent=2)"
   ]
  },
  {
   "cell_type": "code",
   "execution_count": 3,
   "metadata": {},
   "outputs": [],
   "source": [
    "df = pd.read_json('3/sa-annotated.json')\n",
    "# df = df.drop(columns='id')"
   ]
  },
  {
   "cell_type": "code",
   "execution_count": 26,
   "metadata": {},
   "outputs": [
    {
     "name": "stderr",
     "output_type": "stream",
     "text": [
      "100%|██████████| 3621/3621 [00:00<00:00, 15343.25it/s]\n"
     ]
    }
   ],
   "source": [
    "def get_aspects(data, label):\n",
    "  annotated_aspects = []\n",
    "  tweet = data\n",
    "  \n",
    "  for i in range(len(label)):\n",
    "    aspect_and_polarity = []\n",
    "    \n",
    "    annotated = label[i]\n",
    "    start = annotated[0]\n",
    "    end = annotated[1]\n",
    "    polarity = annotated[2]\n",
    "    \n",
    "    aspect = tweet[start:end].strip(\" \").lower()\n",
    "    \n",
    "    aspect_and_polarity.append(aspect)\n",
    "    aspect_and_polarity.append(polarity)\n",
    "    \n",
    "    \n",
    "    annotated_aspects.append(aspect_and_polarity)\n",
    "  \n",
    "  return annotated_aspects\n",
    "\n",
    "df['annotation'] = df.progress_apply(lambda x: get_aspects(x.data, x.label), axis=1)"
   ]
  },
  {
   "cell_type": "code",
   "execution_count": 27,
   "metadata": {},
   "outputs": [],
   "source": [
    "df = df.rename(columns={'data': 'translated'})"
   ]
  },
  {
   "cell_type": "code",
   "execution_count": 28,
   "metadata": {},
   "outputs": [],
   "source": [
    "df.to_csv(\"annotated.csv\")"
   ]
  }
 ],
 "metadata": {
  "interpreter": {
   "hash": "310a519b676ac3702437d902e068b22df7f36fb88bfa9c8455f322a7fb8ed542"
  },
  "kernelspec": {
   "display_name": "Python 3.9.7 64-bit (windows store)",
   "language": "python",
   "name": "python3"
  },
  "language_info": {
   "codemirror_mode": {
    "name": "ipython",
    "version": 3
   },
   "file_extension": ".py",
   "mimetype": "text/x-python",
   "name": "python",
   "nbconvert_exporter": "python",
   "pygments_lexer": "ipython3",
   "version": "3.9.10"
  },
  "orig_nbformat": 4
 },
 "nbformat": 4,
 "nbformat_minor": 2
}
