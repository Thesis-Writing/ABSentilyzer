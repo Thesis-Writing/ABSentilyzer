{
 "cells": [
  {
   "cell_type": "markdown",
   "metadata": {},
   "source": [
    "### Imports"
   ]
  },
  {
   "cell_type": "code",
   "execution_count": 4,
   "metadata": {},
   "outputs": [],
   "source": [
    "import os\n",
    "import sys\n",
    "module_path = os.path.abspath(os.path.join('..'))\n",
    "if module_path not in sys.path:\n",
    "    sys.path.append(module_path)\n",
    "os.chdir(\"..\")"
   ]
  },
  {
   "cell_type": "code",
   "execution_count": 5,
   "metadata": {},
   "outputs": [],
   "source": [
    "import json\n",
    "import pickle\n",
    "import joblib\n",
    "import numpy as np\n",
    "import pandas as pd\n",
    "from scripts.utils import *"
   ]
  },
  {
   "cell_type": "markdown",
   "metadata": {},
   "source": [
    "### Functions"
   ]
  },
  {
   "cell_type": "code",
   "execution_count": 6,
   "metadata": {},
   "outputs": [
    {
     "name": "stdout",
     "output_type": "stream",
     "text": [
      "c:\\Thesis\\classifier\n"
     ]
    }
   ],
   "source": [
    "cwd = os.getcwd()\n",
    "print(cwd)"
   ]
  },
  {
   "cell_type": "code",
   "execution_count": 7,
   "metadata": {},
   "outputs": [],
   "source": [
    "def get_train_data():\n",
    "  '''\n",
    "\t\tThis function returns the training data with annotations\n",
    "\n",
    "\t\tData Structures\n",
    "\t\t---------------\n",
    "\t\tInput:\n",
    "\t\t\tNone\n",
    "\t\tOutput:\n",
    "\t\t\ttrain_text_list\t\t\t\t\t: LIST\n",
    "\t\t\ttrain_aspect_dict_list\t: LIST\n",
    "\t\t\ttrain_label\t\t\t\t\t\t\t: LIST\n",
    "  '''\n",
    "  train_path = 'data/annotated/7/a2/train.pkl'\n",
    "  (original_train_text_list,train_aspect_dict_list,\n",
    "    train_label_list) = get_list_from_data_frame(train_path)\n",
    "\n",
    "  preprocessed_train_list_path = 'data/annotated/7/preprocessed_train_list.pkl'\n",
    "  preprocessed_train_text_list = pickle.loads(\n",
    "    open(os.path.join(cwd, preprocessed_train_list_path), 'rb').read())\n",
    "\n",
    "  return (original_train_text_list, preprocessed_train_text_list,\n",
    "          train_aspect_dict_list, train_label_list)\n",
    "\n",
    "def get_test_data():\n",
    "  '''\n",
    "\t\tThis function returns the test data with annotations\n",
    "\n",
    "\t\tData Structures\n",
    "\t\t---------------\n",
    "\t\tInput:\n",
    "\t\t\tNone\n",
    "\t\tOutput:\n",
    "\t\t\ttest_text_list\t\t\t\t\t\t\t: LIST\n",
    "\t\t\tpreprocessed_test_text_list\t: LIST\n",
    "\t\t\ttest_aspect_dict_list\t\t\t\t: LIST\n",
    "\t\t\ttest_label\t\t\t\t\t\t\t\t\t: LIST\n",
    "  '''\n",
    "  test_path = 'data/annotated/7/a2/test.pkl'\n",
    "  (original_test_text_list,test_aspect_dict_list,\n",
    "    test_label_list) = get_list_from_data_frame(test_path)\n",
    "\n",
    "  preprocessed_test_list_path = 'data/annotated/7/preprocessed_test_list.pkl'\n",
    "  preprocessed_test_text_list = pickle.loads(\n",
    "    open(os.path.join(cwd, preprocessed_test_list_path), 'rb').read())\n",
    "\n",
    "  return (original_test_text_list, preprocessed_test_text_list,\n",
    "          test_aspect_dict_list,test_label_list)"
   ]
  },
  {
   "cell_type": "code",
   "execution_count": 8,
   "metadata": {},
   "outputs": [],
   "source": [
    "def get_number(annotation, mode):\n",
    "  positive = 0\n",
    "  negative = 0\n",
    "  neutral = 0\n",
    "  \n",
    "  if mode == \"al\":\n",
    "    for inner_list in annotation:\n",
    "      for _dict in inner_list:\n",
    "        for key in _dict:\n",
    "          label = _dict[key]\n",
    "          if label == \"positive\":\n",
    "            positive += 1\n",
    "          elif label == \"negative\":\n",
    "            negative += 1\n",
    "          elif label == \"neutral\":\n",
    "            neutral += 1\n",
    "  elif mode == \"sl\":\n",
    "    for label in annotation:\n",
    "      if label == \"pos\":\n",
    "        positive += 1\n",
    "      elif label == \"neg\":\n",
    "        negative += 1\n",
    "      elif label == \"neu\":\n",
    "        neutral += 1\n",
    "  \n",
    "  return positive, negative, neutral\n",
    "\n",
    "\n",
    "def get_sentence_level_list(da):\n",
    "  '''\n",
    "    Takes the path of annotated json file and \n",
    "    returns the texts as list and the aspects with annotated labels\n",
    "  '''\n",
    "  data_path = \"../../data/annotated/7/a2/sl_annotator_2.json\"\n",
    "  annotated_file = json.loads(open(os.path.join(cwd, data_path), 'r', encoding=\"utf-8\").read())\n",
    "  pos_count = 0\n",
    "  neg_count = 0\n",
    "  neu_count = 0\n",
    "\n",
    "  for i in range(len(annotated_file)):\n",
    "    line = annotated_file[i] #dictionary\n",
    "    tweet = line.get(\"data\") #string\n",
    "    tweet_label = line.get(\"label\") #list\n",
    "    tweet_label = tweet_label[0]\n",
    "    \n",
    "    if tweet_label == \"pos\":\n",
    "      pos_count += 1\n",
    "    elif tweet_label == \"neg\":\n",
    "      neg_count += 1\n",
    "    elif tweet_label == \"neu\":\n",
    "      neu_count += 1\n",
    "  \n",
    "  return pos_count,neg_count,neu_count\n",
    "\n",
    "def get_data(data_frame):\n",
    "  tweet_list = data_frame['tweets'].tolist()\n",
    "  aspect_list = data_frame['annotated_aspects'].tolist()\n",
    "  sentence_label_list = data_frame['sentence_label'].tolist()\n",
    "  \n",
    "  return tweet_list,aspect_list,sentence_label_list"
   ]
  },
  {
   "cell_type": "markdown",
   "metadata": {},
   "source": [
    "### Train Description"
   ]
  },
  {
   "cell_type": "code",
   "execution_count": 9,
   "metadata": {},
   "outputs": [],
   "source": [
    "train_df = pickle.loads(open(os.path.join(cwd, 'data/annotated/7/a2/train.pkl'), 'rb').read())\n"
   ]
  },
  {
   "cell_type": "code",
   "execution_count": 10,
   "metadata": {},
   "outputs": [],
   "source": [
    "(original_train_text_list, preprocessed_train_text_list,\n",
    "          train_aspect_dict_list, train_label_list) = get_train_data()"
   ]
  },
  {
   "cell_type": "code",
   "execution_count": 11,
   "metadata": {},
   "outputs": [],
   "source": [
    "train_aspect_list = get_all_aspects(train_aspect_dict_list)\n",
    "tweet_count = len(original_train_text_list)\n",
    "count_aspects = len(train_aspect_list)\n",
    "count_unique = len(list(dict.fromkeys(train_aspect_list)))\n",
    "(pos_asp_count, neg_asp_count, neu_asp_count) = get_number(train_aspect_dict_list, mode=\"al\")\n",
    "(pos_sent_count, neg_sent_count, neu_sent_count) = get_number(train_label_list, mode=\"sl\")"
   ]
  },
  {
   "cell_type": "code",
   "execution_count": 12,
   "metadata": {},
   "outputs": [
    {
     "name": "stdout",
     "output_type": "stream",
     "text": [
      "==============================================================\n",
      "                   TRAIN DATA EXPLORATION LOG                 \n",
      "==============================================================\n",
      "Number of tweets             : 2214\n",
      "Number of aspects            : 3522\n",
      "Number of unique aspects     : 802\n",
      "Number of positive aspects   : 454\n",
      "Number of negative aspects   : 519\n",
      "Number of neutral aspects    : 2549\n",
      "Number of positive sentence  : 182\n",
      "Number of negative sentence  : 352\n",
      "Number of neutral sentence   : 1680\n"
     ]
    }
   ],
   "source": [
    "print(\"==============================================================\")\n",
    "print(\"                   TRAIN DATA EXPLORATION LOG                 \")\n",
    "print(\"==============================================================\")\n",
    "print(\"Number of tweets             : {}\".format(tweet_count))\n",
    "print(\"Number of aspects            : {}\".format(count_aspects))\n",
    "print(\"Number of unique aspects     : {}\".format(count_unique))\n",
    "print(\"Number of positive aspects   : {}\".format(pos_asp_count))\n",
    "print(\"Number of negative aspects   : {}\".format(neg_asp_count))\n",
    "print(\"Number of neutral aspects    : {}\".format(neu_asp_count))\n",
    "print(\"Number of positive sentence  : {}\".format(pos_sent_count))\n",
    "print(\"Number of negative sentence  : {}\".format(neg_sent_count))\n",
    "print(\"Number of neutral sentence   : {}\".format(neu_sent_count))"
   ]
  },
  {
   "cell_type": "markdown",
   "metadata": {},
   "source": [
    "### Test Description"
   ]
  },
  {
   "cell_type": "code",
   "execution_count": 13,
   "metadata": {},
   "outputs": [],
   "source": [
    "# split dataset\n",
    "from sklearn.model_selection import train_test_split\n",
    "test_df = pickle.loads(open(os.path.join(cwd, 'data/annotated/7/a2/test.pkl'), 'rb').read())\n",
    "implement_df,validate_df = train_test_split(test_df, test_size=0.2, train_size=0.8, random_state=1)"
   ]
  },
  {
   "cell_type": "code",
   "execution_count": null,
   "metadata": {},
   "outputs": [],
   "source": [
    "implement_df.to_pickle('data/annotated/7/a2/implement.pkl')\n",
    "validate_df.to_pickle('data/annotated/7/a2/validate.pkl')"
   ]
  },
  {
   "cell_type": "code",
   "execution_count": null,
   "metadata": {},
   "outputs": [],
   "source": [
    "(val_tweet_list, val_aspect_dict_list, \n",
    "    val_sentence_label_list) = get_data(validate_df)\n",
    "val_aspect_list = get_all_aspects(val_aspect_dict_list)\n",
    "val_tweet_count = len(val_tweet_list)\n",
    "val_count_aspects = len(val_aspect_list)\n",
    "val_count_unique = len(list(dict.fromkeys(val_aspect_list)))\n",
    "(val_pos_asp_count, val_neg_asp_count, val_neu_asp_count) = get_number(val_aspect_dict_list, mode=\"al\")\n",
    "(val_pos_sent_count, val_neg_sent_count, val_neu_sent_count) = get_number(val_sentence_label_list, mode=\"sl\")\n",
    "\n",
    "print(\"==============================================================\")\n",
    "print(\"                VALIDATE DATA EXPLORATION LOG                 \")\n",
    "print(\"==============================================================\")\n",
    "print(\"Number of tweets             : {}\".format(val_tweet_count))\n",
    "print(\"Number of aspects            : {}\".format(val_count_aspects))\n",
    "print(\"Number of unique aspects     : {}\".format(val_count_unique))\n",
    "print(\"Number of positive aspects   : {}\".format(val_pos_asp_count))\n",
    "print(\"Number of negative aspects   : {}\".format(val_neg_asp_count))\n",
    "print(\"Number of neutral aspects    : {}\".format(val_neu_asp_count))\n",
    "print(\"Number of positive sentence  : {}\".format(val_pos_sent_count))\n",
    "print(\"Number of negative sentence  : {}\".format(val_neg_sent_count))\n",
    "print(\"Number of neutral sentence   : {}\".format(val_neu_sent_count))"
   ]
  },
  {
   "cell_type": "code",
   "execution_count": null,
   "metadata": {},
   "outputs": [],
   "source": [
    "(imp_tweet_list, imp_aspect_dict_list, \n",
    "    imp_sentence_label_list) = get_data(implement_df)\n",
    "imp_aspect_list = get_all_aspects(imp_aspect_dict_list)\n",
    "imp_tweet_count = len(imp_tweet_list)\n",
    "imp_count_aspects = len(imp_aspect_list)\n",
    "imp_count_unique = len(list(dict.fromkeys(imp_aspect_list)))\n",
    "(imp_pos_asp_count, imp_neg_asp_count, imp_neu_asp_count) = get_number(imp_aspect_dict_list, mode=\"al\")\n",
    "(imp_pos_sent_count, imp_neg_sent_count, imp_neu_sent_count) = get_number(imp_sentence_label_list, mode=\"sl\")\n",
    "\n",
    "print(\"==============================================================\")\n",
    "print(\"                    TEST DATA EXPLORATION LOG                 \")\n",
    "print(\"==============================================================\")\n",
    "print(\"Number of tweets             : {}\".format(imp_tweet_count))\n",
    "print(\"Number of aspects            : {}\".format(imp_count_aspects))\n",
    "print(\"Number of unique aspects     : {}\".format(imp_count_unique))\n",
    "print(\"Number of positive aspects   : {}\".format(imp_pos_asp_count))\n",
    "print(\"Number of negative aspects   : {}\".format(imp_neg_asp_count))\n",
    "print(\"Number of neutral aspects    : {}\".format(imp_neu_asp_count))\n",
    "print(\"Number of positive sentence  : {}\".format(imp_pos_sent_count))\n",
    "print(\"Number of negative sentence  : {}\".format(imp_neg_sent_count))\n",
    "print(\"Number of neutral sentence   : {}\".format(imp_neu_sent_count))"
   ]
  }
 ],
 "metadata": {
  "interpreter": {
   "hash": "310a519b676ac3702437d902e068b22df7f36fb88bfa9c8455f322a7fb8ed542"
  },
  "kernelspec": {
   "display_name": "Python 3.9.10 64-bit (windows store)",
   "language": "python",
   "name": "python3"
  },
  "language_info": {
   "codemirror_mode": {
    "name": "ipython",
    "version": 3
   },
   "file_extension": ".py",
   "mimetype": "text/x-python",
   "name": "python",
   "nbconvert_exporter": "python",
   "pygments_lexer": "ipython3",
   "version": "3.9.10"
  },
  "orig_nbformat": 4
 },
 "nbformat": 4,
 "nbformat_minor": 2
}
