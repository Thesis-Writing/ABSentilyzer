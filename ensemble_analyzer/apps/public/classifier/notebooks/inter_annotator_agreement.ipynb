{
 "cells": [
  {
   "cell_type": "code",
   "execution_count": 1,
   "metadata": {},
   "outputs": [],
   "source": [
    "import os\n",
    "import sys\n",
    "import numpy as np\n",
    "import pandas as pd\n",
    "from sklearn.metrics import cohen_kappa_score\n",
    "module_path = os.path.abspath(os.path.join('..'))\n",
    "if module_path not in sys.path:\n",
    "    sys.path.append(module_path)"
   ]
  },
  {
   "cell_type": "code",
   "execution_count": 2,
   "metadata": {},
   "outputs": [],
   "source": [
    "def convert_list(label):\n",
    "  for l in label:\n",
    "    return l"
   ]
  },
  {
   "cell_type": "code",
   "execution_count": 3,
   "metadata": {},
   "outputs": [],
   "source": [
    "a1_df = pd.read_json(\"../../data/annotated/7/sl_annotator_1.json\")\n",
    "a2_df = pd.read_json(\"../../data/annotated/7/sl_annotator_2.json\")\n",
    "a3_df = pd.read_json(\"../../data/annotated/7/sl_annotator_3.json\")"
   ]
  },
  {
   "cell_type": "code",
   "execution_count": 4,
   "metadata": {},
   "outputs": [],
   "source": [
    "a1_df['label'] = a1_df['label'].apply(lambda x: convert_list(x))\n",
    "a2_df['label'] = a2_df['label'].apply(lambda x: convert_list(x))\n",
    "a3_df['label'] = a3_df['label'].apply(lambda x: convert_list(x))"
   ]
  },
  {
   "cell_type": "code",
   "execution_count": 5,
   "metadata": {},
   "outputs": [],
   "source": [
    "labels = ['pos', 'neg', 'neu']\n",
    "a1_labels = np.array(a1_df['label']).tolist()\n",
    "a2_labels = np.array(a2_df['label']).tolist()\n",
    "a3_labels = np.array(a3_df['label']).tolist()"
   ]
  },
  {
   "cell_type": "code",
   "execution_count": 6,
   "metadata": {},
   "outputs": [],
   "source": [
    "cohen_score_1 = cohen_kappa_score(a1_labels, a2_labels, labels=labels)\n",
    "cohen_score_2 = cohen_kappa_score(a1_labels, a3_labels, labels=labels) \n",
    "cohen_score_3 = cohen_kappa_score(a2_labels, a3_labels, labels=labels)"
   ]
  },
  {
   "cell_type": "code",
   "execution_count": 7,
   "metadata": {},
   "outputs": [
    {
     "name": "stdout",
     "output_type": "stream",
     "text": [
      "Legend: \n",
      "  A1: Ed\n",
      "  A2: Keith\n",
      "  A3: Affy-Ed-Keith\n",
      "  CPS1: A1 - A2\n",
      "  CPS2: A1 - A3\n",
      "  CPS3: A2 - A3 \n",
      "CKS1: 0.4624430570216532\n",
      "CKS2: 0.979761809356948\n",
      "CKS3: 0.4595876237975034\n"
     ]
    }
   ],
   "source": [
    "print(\"\"\"Legend: \n",
    "  A1: Ed\n",
    "  A2: Keith\n",
    "  A3: Affy-Ed-Keith\n",
    "  CKS1: A1 - A2\n",
    "  CKS2: A1 - A3\n",
    "  CKS3: A2 - A3 \"\"\")\n",
    "print(\"CKS1: {}\".format(cohen_score_1))\n",
    "print(\"CKS2: {}\".format(cohen_score_2))\n",
    "print(\"CKS3: {}\".format(cohen_score_3))\n"
   ]
  },
  {
   "cell_type": "code",
   "execution_count": null,
   "metadata": {},
   "outputs": [],
   "source": []
  }
 ],
 "metadata": {
  "interpreter": {
   "hash": "310a519b676ac3702437d902e068b22df7f36fb88bfa9c8455f322a7fb8ed542"
  },
  "kernelspec": {
   "display_name": "Python 3.9.10 64-bit (windows store)",
   "language": "python",
   "name": "python3"
  },
  "language_info": {
   "codemirror_mode": {
    "name": "ipython",
    "version": 3
   },
   "file_extension": ".py",
   "mimetype": "text/x-python",
   "name": "python",
   "nbconvert_exporter": "python",
   "pygments_lexer": "ipython3",
   "version": "3.9.10"
  },
  "orig_nbformat": 4
 },
 "nbformat": 4,
 "nbformat_minor": 2
}
